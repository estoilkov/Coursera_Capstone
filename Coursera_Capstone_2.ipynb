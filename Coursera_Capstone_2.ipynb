{
  "nbformat": 4,
  "nbformat_minor": 0,
  "metadata": {
    "colab": {
      "name": "Coursera_Capstone_2.ipynb",
      "provenance": [],
      "authorship_tag": "ABX9TyMAvCYYVrjOlhzTdg4EbbCn",
      "include_colab_link": true
    },
    "kernelspec": {
      "name": "python3",
      "display_name": "Python 3"
    }
  },
  "cells": [
    {
      "cell_type": "markdown",
      "metadata": {
        "id": "view-in-github",
        "colab_type": "text"
      },
      "source": [
        "<a href=\"https://colab.research.google.com/github/estoilkov/Coursera_Capstone/blob/master/Coursera_Capstone_2.ipynb\" target=\"_parent\"><img src=\"https://colab.research.google.com/assets/colab-badge.svg\" alt=\"Open In Colab\"/></a>"
      ]
    },
    {
      "cell_type": "code",
      "metadata": {
        "id": "wF65X3L9G7kZ",
        "colab_type": "code",
        "colab": {}
      },
      "source": [
        "import pandas as pd\n",
        "import numpy as np\n",
        "from bs4 import BeautifulSoup\n",
        "import requests"
      ],
      "execution_count": 0,
      "outputs": []
    },
    {
      "cell_type": "markdown",
      "metadata": {
        "id": "ImO_olJiSJHS",
        "colab_type": "text"
      },
      "source": [
        "<p> Get table with BS </p>"
      ]
    },
    {
      "cell_type": "code",
      "metadata": {
        "id": "gmu4sm57Hozf",
        "colab_type": "code",
        "colab": {}
      },
      "source": [
        "url = 'https://en.wikipedia.org/wiki/List_of_postal_codes_of_Canada:_M'\n",
        "\n",
        "req  = requests.get(url, timeout=5)\n",
        "bod = req.text\n",
        "soup = BeautifulSoup(bod, \"html.parser\")"
      ],
      "execution_count": 0,
      "outputs": []
    },
    {
      "cell_type": "code",
      "metadata": {
        "id": "NFbp7EdDMVPr",
        "colab_type": "code",
        "colab": {}
      },
      "source": [
        "data = []\n",
        "stable =soup.find('table')      \n",
        "rows = stable.find_all('tr')      # Select all the rows\n",
        "for row in rows:\n",
        "    cols = row.find_all('td')     # For each row find all 'td' elements\n",
        "    cols = [ele.text.strip() for ele in cols]   # Get rid of empty values for 'td' elements\n",
        "    data.append([ele for ele in cols if ele])"
      ],
      "execution_count": 0,
      "outputs": []
    },
    {
      "cell_type": "code",
      "metadata": {
        "id": "ch5pwCOEMzVj",
        "colab_type": "code",
        "colab": {
          "base_uri": "https://localhost:8080/",
          "height": 424
        },
        "outputId": "bdf1bcf6-bfa8-4a33-8002-184c3a9622c6"
      },
      "source": [
        "df = pd.DataFrame(data, columns = ['PostalCode', 'Borough', 'Neighborhood'])\n",
        "df = df[df.Borough != 'Not assigned']\n",
        "df"
      ],
      "execution_count": 33,
      "outputs": [
        {
          "output_type": "execute_result",
          "data": {
            "text/html": [
              "<div>\n",
              "<style scoped>\n",
              "    .dataframe tbody tr th:only-of-type {\n",
              "        vertical-align: middle;\n",
              "    }\n",
              "\n",
              "    .dataframe tbody tr th {\n",
              "        vertical-align: top;\n",
              "    }\n",
              "\n",
              "    .dataframe thead th {\n",
              "        text-align: right;\n",
              "    }\n",
              "</style>\n",
              "<table border=\"1\" class=\"dataframe\">\n",
              "  <thead>\n",
              "    <tr style=\"text-align: right;\">\n",
              "      <th></th>\n",
              "      <th>PostalCode</th>\n",
              "      <th>Borough</th>\n",
              "      <th>Neighborhood</th>\n",
              "    </tr>\n",
              "  </thead>\n",
              "  <tbody>\n",
              "    <tr>\n",
              "      <th>0</th>\n",
              "      <td>None</td>\n",
              "      <td>None</td>\n",
              "      <td>None</td>\n",
              "    </tr>\n",
              "    <tr>\n",
              "      <th>3</th>\n",
              "      <td>M3A</td>\n",
              "      <td>North York</td>\n",
              "      <td>Parkwoods</td>\n",
              "    </tr>\n",
              "    <tr>\n",
              "      <th>4</th>\n",
              "      <td>M4A</td>\n",
              "      <td>North York</td>\n",
              "      <td>Victoria Village</td>\n",
              "    </tr>\n",
              "    <tr>\n",
              "      <th>5</th>\n",
              "      <td>M5A</td>\n",
              "      <td>Downtown Toronto</td>\n",
              "      <td>Regent Park / Harbourfront</td>\n",
              "    </tr>\n",
              "    <tr>\n",
              "      <th>6</th>\n",
              "      <td>M6A</td>\n",
              "      <td>North York</td>\n",
              "      <td>Lawrence Manor / Lawrence Heights</td>\n",
              "    </tr>\n",
              "    <tr>\n",
              "      <th>...</th>\n",
              "      <td>...</td>\n",
              "      <td>...</td>\n",
              "      <td>...</td>\n",
              "    </tr>\n",
              "    <tr>\n",
              "      <th>161</th>\n",
              "      <td>M8X</td>\n",
              "      <td>Etobicoke</td>\n",
              "      <td>The Kingsway / Montgomery Road  / Old Mill North</td>\n",
              "    </tr>\n",
              "    <tr>\n",
              "      <th>166</th>\n",
              "      <td>M4Y</td>\n",
              "      <td>Downtown Toronto</td>\n",
              "      <td>Church and Wellesley</td>\n",
              "    </tr>\n",
              "    <tr>\n",
              "      <th>169</th>\n",
              "      <td>M7Y</td>\n",
              "      <td>East Toronto</td>\n",
              "      <td>Business reply mail Processing CentrE</td>\n",
              "    </tr>\n",
              "    <tr>\n",
              "      <th>170</th>\n",
              "      <td>M8Y</td>\n",
              "      <td>Etobicoke</td>\n",
              "      <td>Old Mill South / King's Mill Park / Sunnylea /...</td>\n",
              "    </tr>\n",
              "    <tr>\n",
              "      <th>179</th>\n",
              "      <td>M8Z</td>\n",
              "      <td>Etobicoke</td>\n",
              "      <td>Mimico NW / The Queensway West / South of Bloo...</td>\n",
              "    </tr>\n",
              "  </tbody>\n",
              "</table>\n",
              "<p>104 rows × 3 columns</p>\n",
              "</div>"
            ],
            "text/plain": [
              "    PostalCode  ...                                       Neighborhood\n",
              "0         None  ...                                               None\n",
              "3          M3A  ...                                          Parkwoods\n",
              "4          M4A  ...                                   Victoria Village\n",
              "5          M5A  ...                         Regent Park / Harbourfront\n",
              "6          M6A  ...                  Lawrence Manor / Lawrence Heights\n",
              "..         ...  ...                                                ...\n",
              "161        M8X  ...   The Kingsway / Montgomery Road  / Old Mill North\n",
              "166        M4Y  ...                               Church and Wellesley\n",
              "169        M7Y  ...              Business reply mail Processing CentrE\n",
              "170        M8Y  ...  Old Mill South / King's Mill Park / Sunnylea /...\n",
              "179        M8Z  ...  Mimico NW / The Queensway West / South of Bloo...\n",
              "\n",
              "[104 rows x 3 columns]"
            ]
          },
          "metadata": {
            "tags": []
          },
          "execution_count": 33
        }
      ]
    },
    {
      "cell_type": "markdown",
      "metadata": {
        "id": "c0c9DcY0RKK2",
        "colab_type": "text"
      },
      "source": [
        "<p> Neighbourhoods are somewhat cleaned, replace \"/\" with \"'\"</p>\n",
        "<p> Clean empty Neighbourhoods and drop empty cells</p>"
      ]
    },
    {
      "cell_type": "code",
      "metadata": {
        "id": "5opu1WKPPlK9",
        "colab_type": "code",
        "colab": {}
      },
      "source": [
        "df['Neighborhood'] = df.Neighborhood.str.replace(' / ', ', ').head(10)\n",
        "df['Neighborhood'][df['Neighborhood']==''] = df['Borough']\n",
        "df= df.iloc[1:]"
      ],
      "execution_count": 0,
      "outputs": []
    },
    {
      "cell_type": "markdown",
      "metadata": {
        "id": "_EhW0R--RxV3",
        "colab_type": "text"
      },
      "source": [
        "<p> Print table head and shape</p>"
      ]
    },
    {
      "cell_type": "code",
      "metadata": {
        "id": "_DOl0pjZR2aU",
        "colab_type": "code",
        "colab": {
          "base_uri": "https://localhost:8080/",
          "height": 146
        },
        "outputId": "535193ff-c57b-4ec2-ac53-4454f1b6bb71"
      },
      "source": [
        "print(df.head())\n",
        "df.shape"
      ],
      "execution_count": 35,
      "outputs": [
        {
          "output_type": "stream",
          "text": [
            "  PostalCode           Borough                                 Neighborhood\n",
            "3        M3A        North York                                    Parkwoods\n",
            "4        M4A        North York                             Victoria Village\n",
            "5        M5A  Downtown Toronto                    Regent Park, Harbourfront\n",
            "6        M6A        North York             Lawrence Manor, Lawrence Heights\n",
            "7        M7A  Downtown Toronto  Queen's Park, Ontario Provincial Government\n"
          ],
          "name": "stdout"
        },
        {
          "output_type": "execute_result",
          "data": {
            "text/plain": [
              "(103, 3)"
            ]
          },
          "metadata": {
            "tags": []
          },
          "execution_count": 35
        }
      ]
    },
    {
      "cell_type": "code",
      "metadata": {
        "id": "YjqiQX-TRUup",
        "colab_type": "code",
        "colab": {}
      },
      "source": [
        ""
      ],
      "execution_count": 0,
      "outputs": []
    }
  ]
}