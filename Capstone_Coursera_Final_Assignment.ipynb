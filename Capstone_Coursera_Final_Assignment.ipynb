{
  "nbformat": 4,
  "nbformat_minor": 0,
  "metadata": {
    "colab": {
      "name": "Capstone_Coursera_Final Assignment.ipynb",
      "provenance": [],
      "collapsed_sections": [],
      "toc_visible": true,
      "authorship_tag": "ABX9TyNDvaS4CdXXbfoVQ3migX3m",
      "include_colab_link": true
    },
    "kernelspec": {
      "name": "python3",
      "display_name": "Python 3"
    }
  },
  "cells": [
    {
      "cell_type": "markdown",
      "metadata": {
        "id": "view-in-github",
        "colab_type": "text"
      },
      "source": [
        "<a href=\"https://colab.research.google.com/github/estoilkov/Coursera_Capstone/blob/master/Capstone_Coursera_Final_Assignment.ipynb\" target=\"_parent\"><img src=\"https://colab.research.google.com/assets/colab-badge.svg\" alt=\"Open In Colab\"/></a>"
      ]
    },
    {
      "cell_type": "markdown",
      "metadata": {
        "id": "pzmeaWozP652",
        "colab_type": "text"
      },
      "source": [
        "## <center> Capstone Project - Part 1  </center> "
      ]
    },
    {
      "cell_type": "markdown",
      "metadata": {
        "id": "Rv5UYyJTQA4p",
        "colab_type": "text"
      },
      "source": [
        "###  Introduction/Business Problem\n",
        " \n",
        "<p>\n",
        "This project will try to compare a group of some of the best known world cities that are considered to be the most promissing tech hubs of the future.The choice of category of cities is not so important for the methodology, but this may help in identifying stronger relations when working with a relatively homogenous group. Experiments with other groups will indeed help find the best approach.</p>\n",
        " \n",
        "<p>The comparision will run across two completely different datasets for all of the cities chosen and will try to identify if the different feature sets may lead to similar cities clusters. K-means will be used to analyse data.</p>\n",
        " \n",
        "<p>This approach may be of interest for a number of reasons. On the one side we may discover that somehow a group of features correlates with a completely different other group of features if  final city clusters overlap. On the other side we may use this approach for feature selection to use later with supervised machine learning.</p>\n",
        " \n",
        "<p>If we discover a strong relation between the two groups of features we may analyse other possible practical applications when comparing cities within a cluster. For example, if we identify typical features within some clusters, business opportunities may become obvious in cities with strong outliers as compared to other cities of the same cluster. </p>\n",
        " \n"
      ]
    },
    {
      "cell_type": "markdown",
      "metadata": {
        "id": "-AIP-C-WbOnw",
        "colab_type": "text"
      },
      "source": [
        "### Data for the analysis\n",
        " \n",
        "#### Citites for the analysis: \n",
        "<p>New York, London, \n",
        "Beijing, Boston, Tel Aviv, Los Angeles, Shanghai, Paris, Berlin, Stockholm, Seattle, Toronto-Waterloo, Singapore, Amsterdam, Austin, Chicago, Bangalore, Washington, San Diego, Lausanne, Bern, Geneva, Sydney, Vancouver, Hong Kong, Atlanta, Barcelona, Dublin,Miami, Munich </p>\n",
        "<p>\n",
        "The first group of features will come fron Foursquare API data run for all of the cities. <br/>\n",
        "We will try to identify the best second group of features with a trial and error approach. A large initial selection of features will be used including general population, economy, development statistics,, as well s some indicators related to innovation and startup  culture.\n",
        "</p>\n",
        " \n",
        "<ul>Data used\n",
        "<li>City density</li>\n",
        "<li>GDP per capita</li>\n",
        "<li>Employment</li>\n",
        "<li>Environment</li>\n",
        "<li>Transportation</li>\n",
        "<li>Education</li>\n",
        "<li>Health</li>\n",
        "<li>Best cities ranking</li>\n",
        "<li>Cost of living statistics</li>\n",
        "<li>Various indices around ecosystems performance,  funding,  market reach, connectedness,...</li>\n",
        " \n",
        "</ul>\n",
        " \n",
        "<p>Final data chosen will depend on availability for all cities analysed.</p>\n",
        " \n",
        "<p>Data sources are OECD, UBS, EIU, Mercer, AT Kearney, ...</p>\n",
        "\n"
      ]
    },
    {
      "cell_type": "markdown",
      "metadata": {
        "id": "YgVSJmxUbOyS",
        "colab_type": "text"
      },
      "source": [
        "<p> Below is an example of data used for tech hub cities is\n",
        "Global Startup Ecosystem Report 2019 by Startup Genome </p>"
      ]
    },
    {
      "cell_type": "code",
      "metadata": {
        "id": "RRobSxJk4CFx",
        "colab_type": "code",
        "colab": {
          "base_uri": "https://localhost:8080/",
          "height": 206
        },
        "outputId": "dc9baaca-f4df-4be5-ae1d-f2d7c791a56f"
      },
      "source": [
        "df.head()"
      ],
      "execution_count": 93,
      "outputs": [
        {
          "output_type": "execute_result",
          "data": {
            "text/html": [
              "<div>\n",
              "<style scoped>\n",
              "    .dataframe tbody tr th:only-of-type {\n",
              "        vertical-align: middle;\n",
              "    }\n",
              "\n",
              "    .dataframe tbody tr th {\n",
              "        vertical-align: top;\n",
              "    }\n",
              "\n",
              "    .dataframe thead th {\n",
              "        text-align: right;\n",
              "    }\n",
              "</style>\n",
              "<table border=\"1\" class=\"dataframe\">\n",
              "  <thead>\n",
              "    <tr style=\"text-align: right;\">\n",
              "      <th></th>\n",
              "      <th>city</th>\n",
              "      <th>ranking</th>\n",
              "      <th>change</th>\n",
              "      <th>performance</th>\n",
              "      <th>funding</th>\n",
              "      <th>marketReach</th>\n",
              "      <th>connectedness</th>\n",
              "      <th>talent</th>\n",
              "      <th>experience</th>\n",
              "      <th>knowledge</th>\n",
              "      <th>growthIndex</th>\n",
              "    </tr>\n",
              "  </thead>\n",
              "  <tbody>\n",
              "    <tr>\n",
              "      <th>0</th>\n",
              "      <td>New York</td>\n",
              "      <td>2</td>\n",
              "      <td>0</td>\n",
              "      <td>1</td>\n",
              "      <td>1</td>\n",
              "      <td>3</td>\n",
              "      <td>2</td>\n",
              "      <td>2</td>\n",
              "      <td>1</td>\n",
              "      <td>2</td>\n",
              "      <td>6</td>\n",
              "    </tr>\n",
              "    <tr>\n",
              "      <th>1</th>\n",
              "      <td>London</td>\n",
              "      <td>3</td>\n",
              "      <td>0</td>\n",
              "      <td>1</td>\n",
              "      <td>1</td>\n",
              "      <td>1</td>\n",
              "      <td>1</td>\n",
              "      <td>2</td>\n",
              "      <td>2</td>\n",
              "      <td>1</td>\n",
              "      <td>6</td>\n",
              "    </tr>\n",
              "    <tr>\n",
              "      <th>2</th>\n",
              "      <td>Beijing</td>\n",
              "      <td>4</td>\n",
              "      <td>1</td>\n",
              "      <td>1</td>\n",
              "      <td>1</td>\n",
              "      <td>5</td>\n",
              "      <td>5</td>\n",
              "      <td>1</td>\n",
              "      <td>1</td>\n",
              "      <td>1</td>\n",
              "      <td>4</td>\n",
              "    </tr>\n",
              "    <tr>\n",
              "      <th>3</th>\n",
              "      <td>Boston</td>\n",
              "      <td>5</td>\n",
              "      <td>0</td>\n",
              "      <td>1</td>\n",
              "      <td>2</td>\n",
              "      <td>2</td>\n",
              "      <td>3</td>\n",
              "      <td>1</td>\n",
              "      <td>1</td>\n",
              "      <td>2</td>\n",
              "      <td>7</td>\n",
              "    </tr>\n",
              "    <tr>\n",
              "      <th>4</th>\n",
              "      <td>Tel Aviv</td>\n",
              "      <td>6</td>\n",
              "      <td>0</td>\n",
              "      <td>2</td>\n",
              "      <td>2</td>\n",
              "      <td>2</td>\n",
              "      <td>1</td>\n",
              "      <td>2</td>\n",
              "      <td>2</td>\n",
              "      <td>1</td>\n",
              "      <td>6</td>\n",
              "    </tr>\n",
              "  </tbody>\n",
              "</table>\n",
              "</div>"
            ],
            "text/plain": [
              "       city  ranking  change  ...  experience  knowledge  growthIndex\n",
              "0  New York        2       0  ...           1          2            6\n",
              "1    London        3       0  ...           2          1            6\n",
              "2   Beijing        4       1  ...           1          1            4\n",
              "3    Boston        5       0  ...           1          2            7\n",
              "4  Tel Aviv        6       0  ...           2          1            6\n",
              "\n",
              "[5 rows x 11 columns]"
            ]
          },
          "metadata": {
            "tags": []
          },
          "execution_count": 93
        }
      ]
    },
    {
      "cell_type": "code",
      "metadata": {
        "id": "O-CP1Vmg8z3M",
        "colab_type": "code",
        "colab": {}
      },
      "source": [
        ""
      ],
      "execution_count": 0,
      "outputs": []
    },
    {
      "cell_type": "code",
      "metadata": {
        "id": "QfpRUqUfXUYr",
        "colab_type": "code",
        "colab": {}
      },
      "source": [
        ""
      ],
      "execution_count": 0,
      "outputs": []
    },
    {
      "cell_type": "code",
      "metadata": {
        "id": "rpjJp9CvWmWb",
        "colab_type": "code",
        "colab": {}
      },
      "source": [
        ""
      ],
      "execution_count": 0,
      "outputs": []
    },
    {
      "cell_type": "code",
      "metadata": {
        "id": "oty4lh4WCSVy",
        "colab_type": "code",
        "colab": {}
      },
      "source": [
        ""
      ],
      "execution_count": 0,
      "outputs": []
    },
    {
      "cell_type": "code",
      "metadata": {
        "id": "4dvjVwXCGA8M",
        "colab_type": "code",
        "colab": {}
      },
      "source": [
        ""
      ],
      "execution_count": 0,
      "outputs": []
    }
  ]
}