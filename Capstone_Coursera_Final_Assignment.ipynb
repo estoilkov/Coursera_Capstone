{
  "nbformat": 4,
  "nbformat_minor": 0,
  "metadata": {
    "colab": {
      "name": "Capstone_Coursera_Final Assignment.ipynb",
      "provenance": [],
      "collapsed_sections": [],
      "authorship_tag": "ABX9TyPWaUvPltNelwl/tUdmgciR",
      "include_colab_link": true
    },
    "kernelspec": {
      "name": "python3",
      "display_name": "Python 3"
    }
  },
  "cells": [
    {
      "cell_type": "markdown",
      "metadata": {
        "id": "view-in-github",
        "colab_type": "text"
      },
      "source": [
        "<a href=\"https://colab.research.google.com/github/estoilkov/Coursera_Capstone/blob/master/Capstone_Coursera_Final_Assignment.ipynb\" target=\"_parent\"><img src=\"https://colab.research.google.com/assets/colab-badge.svg\" alt=\"Open In Colab\"/></a>"
      ]
    },
    {
      "cell_type": "markdown",
      "metadata": {
        "id": "pzmeaWozP652",
        "colab_type": "text"
      },
      "source": [
        "## <center> Capstone Project - Part 1  </center> "
      ]
    },
    {
      "cell_type": "markdown",
      "metadata": {
        "id": "Rv5UYyJTQA4p",
        "colab_type": "text"
      },
      "source": [
        "###  Introduction/Business Problem\n",
        "\n",
        "<p>\n",
        "This project will try to compare a group of some of the best known world cities that are considered to be the most promissing tech hubs of the future.The choice of category of cities is not so important for the methodology, but this may help in identifying stronger relations when working with a relatively homogenous group. Experiments with other groups will indeed help find the best approach.</p>\n",
        "\n",
        "<p>The comparision will run across two completely different datasets for all of the cities chosen and will try to identify if the different feature sets may lead to similar cities clusters. K-means will be used to analyse the dat.</p>\n",
        "\n",
        "<p>This approach may be of interest for a number of reasons. On the one side we may discover that somehow a group of features correlates with a completely different other group of features if  final city clusters overlap. On the other side we may use this approach for feature selection to use later with supervised machine learning.</p>\n",
        "\n",
        "<p>If we discover a strong relation between the two groups of features we may analyse possible practical applications when comparing cities within a cluster. For example, if we identify typical features within some clusters, business opportunities may become obvious in cities with strong outliers as compared with other cities of the same cluster. </p>\n",
        "\n"
      ]
    },
    {
      "cell_type": "markdown",
      "metadata": {
        "id": "-AIP-C-WbOnw",
        "colab_type": "text"
      },
      "source": [
        ""
      ]
    },
    {
      "cell_type": "markdown",
      "metadata": {
        "id": "YgVSJmxUbOyS",
        "colab_type": "text"
      },
      "source": [
        ""
      ]
    }
  ]
}