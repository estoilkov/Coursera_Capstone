{
  "nbformat": 4,
  "nbformat_minor": 0,
  "metadata": {
    "colab": {
      "name": "Capstone_Coursera_Final Assignment_2.ipynb",
      "provenance": [],
      "collapsed_sections": [],
      "authorship_tag": "ABX9TyMTLeDtdk0T+RROZuja0WKR",
      "include_colab_link": true
    },
    "kernelspec": {
      "name": "python3",
      "display_name": "Python 3"
    }
  },
  "cells": [
    {
      "cell_type": "markdown",
      "metadata": {
        "id": "view-in-github",
        "colab_type": "text"
      },
      "source": [
        "<a href=\"https://colab.research.google.com/github/estoilkov/Coursera_Capstone/blob/master/Capstone_Coursera_Final_Assignment_2.ipynb\" target=\"_parent\"><img src=\"https://colab.research.google.com/assets/colab-badge.svg\" alt=\"Open In Colab\"/></a>"
      ]
    },
    {
      "cell_type": "markdown",
      "metadata": {
        "id": "pzmeaWozP652",
        "colab_type": "text"
      },
      "source": [
        "## <center> Capstone Project - Part 1  </center> "
      ]
    },
    {
      "cell_type": "markdown",
      "metadata": {
        "id": "Rv5UYyJTQA4p",
        "colab_type": "text"
      },
      "source": [
        ""
      ]
    },
    {
      "cell_type": "markdown",
      "metadata": {
        "id": "-AIP-C-WbOnw",
        "colab_type": "text"
      },
      "source": [
        "### Data for the analysis\n",
        " \n",
        "#### Citites for the analysis: \n",
        "<p>New York, London, \n",
        "Beijing, Boston, Tel Aviv, Los Angeles, Shanghai, Paris, Berlin, Stockholm, Seattle, Toronto-Waterloo, Singapore, Amsterdam, Austin, Chicago, Bangalore, Washington, San Diego, Lausanne, Bern, Geneva, Sydney, Vancouver, Hong Kong, Atlanta, Barcelona, Dublin,Miami, Munich </p>\n",
        "<p>\n",
        "The first group of features will come fron Foursquare API data run for all of the cities. <br/>\n",
        "We will try to identify the best second group of features with a trial and error approach. A large initial selection of features will be used including general population, economy, development statistics,, as well s some indicators related to innovation and startup  culture.\n",
        "</p>\n",
        " \n",
        "<ul>Data used\n",
        "<li>City density</li>\n",
        "<li>GDP per capita</li>\n",
        "<li>Employment</li>\n",
        "<li>Environment</li>\n",
        "<li>Transportation</li>\n",
        "<li>Education</li>\n",
        "<li>Health</li>\n",
        "<li>Best cities ranking</li>\n",
        "<li>Cost of living statistics</li>\n",
        "<li>Various indices around ecosystems performance,  funding,  market reach, connectedness,...</li>\n",
        " \n",
        "</ul>\n",
        " \n",
        "<p>Final data chosen will depend on availability for all cities analysed.</p>\n",
        " \n",
        "<p>Data sources are OECD, UBS, EIU, Mercer, AT Kearney, ...</p>\n",
        "\n"
      ]
    },
    {
      "cell_type": "markdown",
      "metadata": {
        "id": "vQCrwbmNgBht",
        "colab_type": "text"
      },
      "source": [
        ""
      ]
    },
    {
      "cell_type": "markdown",
      "metadata": {
        "id": "YgVSJmxUbOyS",
        "colab_type": "text"
      },
      "source": [
        ""
      ]
    }
  ]
}